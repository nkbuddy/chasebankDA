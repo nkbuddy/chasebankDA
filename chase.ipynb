{
 "cells": [
  {
   "cell_type": "markdown",
   "metadata": {},
   "source": [
    "<h1>Define The problem</h1>"
   ]
  },
  {
   "cell_type": "code",
   "execution_count": 1,
   "metadata": {},
   "outputs": [],
   "source": [
    "import pandas as pd"
   ]
  },
  {
   "cell_type": "code",
   "execution_count": 2,
   "metadata": {},
   "outputs": [],
   "source": [
    "df = pd.read_csv('/Users/alanchan/Documents/Github/chasebankDA/chase.csv')"
   ]
  },
  {
   "cell_type": "code",
   "execution_count": 6,
   "metadata": {},
   "outputs": [
    {
     "data": {
      "text/plain": [
       "Institution Name       0\n",
       "Main Office            0\n",
       "Branch Name            0\n",
       "Branch Number          0\n",
       "Established Date       0\n",
       "Acquired Date       1615\n",
       "Street Address         0\n",
       "City                   0\n",
       "County                 0\n",
       "State                  0\n",
       "Zipcode                0\n",
       "Latitude              66\n",
       "Longitude             66\n",
       "2010 Deposits        740\n",
       "2011 Deposits        578\n",
       "2012 Deposits        329\n",
       "2013 Deposits        175\n",
       "2014 Deposits         56\n",
       "2015 Deposits         19\n",
       "2016 Deposits          0\n",
       "dtype: int64"
      ]
     },
     "execution_count": 6,
     "metadata": {},
     "output_type": "execute_result"
    }
   ],
   "source": [
    "df.isna().sum()"
   ]
  },
  {
   "cell_type": "code",
   "execution_count": null,
   "metadata": {},
   "outputs": [],
   "source": []
  }
 ],
 "metadata": {
  "kernelspec": {
   "display_name": "Python 3.8.5 ('learn-env')",
   "language": "python",
   "name": "python3"
  },
  "language_info": {
   "codemirror_mode": {
    "name": "ipython",
    "version": 3
   },
   "file_extension": ".py",
   "mimetype": "text/x-python",
   "name": "python",
   "nbconvert_exporter": "python",
   "pygments_lexer": "ipython3",
   "version": "3.8.5"
  },
  "orig_nbformat": 4,
  "vscode": {
   "interpreter": {
    "hash": "2700375e02ad74d7fa19bf39b9bbaacee623ff18e8d83a1c706494d7922e527a"
   }
  }
 },
 "nbformat": 4,
 "nbformat_minor": 2
}
