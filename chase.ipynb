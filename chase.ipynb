{
 "cells": [
  {
   "cell_type": "markdown",
   "metadata": {},
   "source": [
    "<h1>Define The problem</h1>\n",
    "Where did Chase Bank customers deposit the most money last year?<br>\n",
    "Which bank branch has seen the most growth in deposits? <br>\n",
    "How did the bank network of branch locations grow over the past century? <br>\n",
    "What city has the most bank branches per capita?<br>\n"
   ]
  },
  {
   "cell_type": "markdown",
   "metadata": {},
   "source": [
    "<h1>The Data source Kaggle</h1>\n",
    "https://www.kaggle.com/datasets/chasebank/bank-deposits"
   ]
  },
  {
   "cell_type": "markdown",
   "metadata": {},
   "source": [
    "<h1>data may relate</h1>\n",
    "income<br>\n",
    "GDP<br>"
   ]
  },
  {
   "cell_type": "markdown",
   "metadata": {},
   "source": [
    "<h3>understand the data</h3>\n",
    "<table>\n",
    "  <tr>\n",
    "    <th>Column Name</th>\n",
    "    <th>Data Type</th>\n",
    "    <th>Description</th>\n",
    "  </tr>\n",
    "  <tr>\n",
    "    <td>Institution Name</td>\n",
    "    <td>String</td>\n",
    "    <td>Represents the name of the institution. Contains only one unique value, \"JPMorgan Chase Bank\".</td>\n",
    "  </tr>\n",
    "  <tr>\n",
    "    <td>Main Office</td>\n",
    "    <td>Boolean</td>\n",
    "    <td>Indicates whether the branch is the main office. A value of 1 represents true, and a value of 0 represents false.</td>\n",
    "  </tr>\n",
    "  <tr>\n",
    "    <td>Branch Name</td>\n",
    "    <td>String</td>\n",
    "    <td>Represents the name of the branch.</td>\n",
    "  </tr>\n",
    "  <tr>\n",
    "    <td>Branch Number</td>\n",
    "    <td>Integer</td>\n",
    "    <td>Represents the ID or number assigned to the branch.</td>\n",
    "  </tr>\n",
    "  <tr>\n",
    "    <td>Established Date</td>\n",
    "    <td>Date</td>\n",
    "    <td>Indicates the date when the branch was established.</td>\n",
    "  </tr>\n",
    "  <tr>\n",
    "    <td>Acquired Date</td>\n",
    "    <td>Date</td>\n",
    "    <td>Indicates the date when the branch was acquired.</td>\n",
    "  </tr>\n",
    "  <tr>\n",
    "    <td>Street Address</td>\n",
    "    <td>String</td>\n",
    "    <td>Represents the street address of the branch.</td>\n",
    "  </tr>\n",
    "  <tr>\n",
    "    <td>City</td>\n",
    "    <td>String</td>\n",
    "    <td>Represents the city where the branch is located.</td>\n",
    "  </tr>\n",
    "  <tr>\n",
    "    <td>County</td>\n",
    "    <td>String</td>\n",
    "    <td>Represents the county where the branch is located.</td>\n",
    "  </tr>\n",
    "  <tr>\n",
    "    <td>State</td>\n",
    "    <td>String</td>\n",
    "    <td>Represents the state where the branch is located.</td>\n",
    "  </tr>\n",
    "  <tr>\n",
    "    <td>Zipcode</td>\n",
    "    <td>Integer</td>\n",
    "    <td>Represents the ZIP code of the branch.</td>\n",
    "  </tr>\n",
    "  <tr>\n",
    "    <td>Latitude</td>\n",
    "    <td>Float</td>\n",
    "    <td>Represents the latitude coordinate of the branch location.</td>\n",
    "  </tr>\n",
    "  <tr>\n",
    "    <td>Longitude</td>\n",
    "    <td>Float</td>\n",
    "    <td>Represents the longitude coordinate of the branch location.</td>\n",
    "  </tr>\n",
    "  <tr>\n",
    "    <td>2010 Deposits</td>\n",
    "    <td>Integer</td>\n",
    "    <td>Represents the deposit amount in the year 2010.</td>\n",
    "  </tr>\n",
    "  <tr>\n",
    "    <td>2011 Deposits</td>\n",
    "    <td>Integer</td>\n",
    "    <td>Represents the deposit amount in the year 2011.</td>\n",
    "  </tr>\n",
    "  <tr>\n",
    "    <td>2012 Deposits</td>\n",
    "    <td>Integer</td>\n",
    "    <td>Represents the deposit amount in the year 2012.</td>\n",
    "  </tr>\n",
    "    <tr>\n",
    "    <td>2013 Deposits</td>\n",
    "    <td>Integer</td>\n",
    "    <td>Represents the deposit amount in the year 2013.</td>\n",
    "  </tr>\n",
    "  <tr>\n",
    "    <td>2014 Deposits</td>\n",
    "    <td>Integer</td>\n",
    "    <td>Represents the deposit amount in the year 2014.</td>\n",
    "  </tr>\n",
    "  <tr>\n",
    "    <td>2015 Deposits</td>\n",
    "    <td>Integer</td>\n",
    "    <td>Represents the deposit amount in the year 2015.</td>\n",
    "  </tr>\n",
    "  <tr>\n",
    "    <td>2016 Deposits</td>\n",
    "    <td>Integer</td>\n",
    "    <td>Represents the deposit amount in the year 2016.</td>\n",
    "  </tr>\n",
    "</table>\n"
   ]
  },
  {
   "cell_type": "code",
   "execution_count": 9,
   "metadata": {},
   "outputs": [],
   "source": [
    "import pandas as pd\n",
    "import seaborn as sns\n",
    "import matplotlib.pyplot as plt\n",
    "import folium\n",
    "from folium.plugins import HeatMap"
   ]
  },
  {
   "cell_type": "code",
   "execution_count": 2,
   "metadata": {},
   "outputs": [],
   "source": [
    "df = pd.read_csv('/Users/alanchan/Documents/Github/chasebankDA/chase.csv')"
   ]
  },
  {
   "cell_type": "code",
   "execution_count": 30,
   "metadata": {},
   "outputs": [],
   "source": [
    "df[['2010 Deposits', '2011 Deposits', '2012 Deposits', '2013 Deposits', '2014 Deposits', '2015 Deposits', '2016 Deposits']] /= 1000\n",
    "\n",
    "df = df.rename(columns={\n",
    "    '2010 Deposits': '2010 Deposits (in thousands)',\n",
    "    '2011 Deposits': '2011 Deposits (in thousands)',\n",
    "    '2012 Deposits': '2012 Deposits (in thousands)',\n",
    "    '2013 Deposits': '2013 Deposits (in thousands)',\n",
    "    '2014 Deposits': '2014 Deposits (in thousands)',\n",
    "    '2015 Deposits': '2015 Deposits (in thousands)',\n",
    "    '2016 Deposits': '2016 Deposits (in thousands)'\n",
    "})"
   ]
  },
  {
   "cell_type": "code",
   "execution_count": 33,
   "metadata": {},
   "outputs": [
    {
     "data": {
      "text/plain": [
       "Institution Name                   0\n",
       "Main Office                        0\n",
       "Branch Name                        0\n",
       "Branch Number                      0\n",
       "Established Date                   0\n",
       "Acquired Date                   1615\n",
       "Street Address                     0\n",
       "City                               0\n",
       "County                             0\n",
       "State                              0\n",
       "Zipcode                            0\n",
       "Latitude                          66\n",
       "Longitude                         66\n",
       "2010 Deposits (in thousands)     740\n",
       "2011 Deposits (in thousands)     578\n",
       "2012 Deposits (in thousands)     329\n",
       "2013 Deposits (in thousands)     175\n",
       "2014 Deposits (in thousands)      56\n",
       "2015 Deposits (in thousands)      19\n",
       "2016 Deposits (in thousands)       0\n",
       "dtype: int64"
      ]
     },
     "execution_count": 33,
     "metadata": {},
     "output_type": "execute_result"
    }
   ],
   "source": [
    "df.isna().sum()"
   ]
  },
  {
   "cell_type": "code",
   "execution_count": 5,
   "metadata": {},
   "outputs": [
    {
     "data": {
      "text/plain": [
       "<AxesSubplot:xlabel='2016 Deposits', ylabel='State'>"
      ]
     },
     "execution_count": 5,
     "metadata": {},
     "output_type": "execute_result"
    },
    {
     "data": {
      "image/png": "[encoded data removed]",
      "text/plain": [
       "<Figure size 432x288 with 1 Axes>"
      ]
     },
     "metadata": {
      "needs_background": "light"
     },
     "output_type": "display_data"
    }
   ],
   "source": [
    "sns.barplot(x=\"2016 Deposits\", y=\"State\", data=df,color=\"b\")"
   ]
  },
  {
   "cell_type": "code",
   "execution_count": 20,
   "metadata": {},
   "outputs": [
    {
     "data": {
      "text/plain": [
       "<folium.plugins.heat_map.HeatMap at 0x7fa5d3edeca0>"
      ]
     },
     "execution_count": 20,
     "metadata": {},
     "output_type": "execute_result"
    }
   ],
   "source": [
    "filtered_df = df.dropna(subset=['Latitude', 'Longitude'])\n",
    "\n",
    "# Create a map object centered on the United States\n",
    "m = folium.Map(location=[37.0902, -95.7129], zoom_start=4)\n",
    "\n",
    "# Generate a list of coordinates for the HeatMap layer\n",
    "coordinates = filtered_df[['Latitude', 'Longitude']].values\n",
    "\n",
    "# Add the HeatMap layer to the map\n",
    "HeatMap(coordinates).add_to(m)"
   ]
  },
  {
   "cell_type": "code",
   "execution_count": null,
   "metadata": {},
   "outputs": [],
   "source": []
  }
 ],
 "metadata": {
  "kernelspec": {
   "display_name": "Python 3.8.5 ('learn-env')",
   "language": "python",
   "name": "python3"
  },
  "language_info": {
   "codemirror_mode": {
    "name": "ipython",
    "version": 3
   },
   "file_extension": ".py",
   "mimetype": "text/x-python",
   "name": "python",
   "nbconvert_exporter": "python",
   "pygments_lexer": "ipython3",
   "version": "3.8.5"
  },
  "orig_nbformat": 4,
  "vscode": {
   "interpreter": {
    "hash": "2700375e02ad74d7fa19bf39b9bbaacee623ff18e8d83a1c706494d7922e527a"
   }
  }
 },
 "nbformat": 4,
 "nbformat_minor": 2
}
